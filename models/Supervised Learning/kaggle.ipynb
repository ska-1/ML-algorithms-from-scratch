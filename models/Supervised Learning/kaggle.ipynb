{
 "cells": [
  {
   "cell_type": "code",
   "execution_count": 6,
   "metadata": {},
   "outputs": [
    {
     "ename": "ModuleNotFoundError",
     "evalue": "No module named 'requests'",
     "output_type": "error",
     "traceback": [
      "\u001b[1;31m---------------------------------------------------------------------------\u001b[0m",
      "\u001b[1;31mModuleNotFoundError\u001b[0m                       Traceback (most recent call last)",
      "Cell \u001b[1;32mIn[6], line 1\u001b[0m\n\u001b[1;32m----> 1\u001b[0m \u001b[38;5;28;01mimport\u001b[39;00m \u001b[38;5;21;01mrequests\u001b[39;00m\n\u001b[0;32m      2\u001b[0m \u001b[38;5;28;01mfrom\u001b[39;00m \u001b[38;5;21;01mbs4\u001b[39;00m \u001b[38;5;28;01mimport\u001b[39;00m BeautifulSoup\n\u001b[0;32m      3\u001b[0m \u001b[38;5;28;01mimport\u001b[39;00m \u001b[38;5;21;01mpandas\u001b[39;00m \u001b[38;5;28;01mas\u001b[39;00m \u001b[38;5;21;01mpd\u001b[39;00m\n",
      "\u001b[1;31mModuleNotFoundError\u001b[0m: No module named 'requests'"
     ]
    }
   ],
   "source": [
    "import requests\n",
    "from bs4 import BeautifulSoup\n",
    "import pandas as pd\n",
    "\n",
    "# URL of the top anime page\n",
    "url = \"https://myanimelist.net/topanime.php\"\n",
    "\n",
    "# Send a GET request to the webpage\n",
    "response = requests.get(url)\n",
    "response.raise_for_status()  # Check for request errors\n",
    "\n",
    "# Parse the HTML content using BeautifulSoup\n",
    "soup = BeautifulSoup(response.text, 'html.parser')\n",
    "\n",
    "# Extract anime entries\n",
    "anime_entries = soup.find_all('tr', class_='ranking-list')\n",
    "\n",
    "# Initialize a list to store data\n",
    "data = []\n",
    "\n",
    "# Loop through each anime entry to extract details\n",
    "for anime in anime_entries:\n",
    "    rank = anime.find('td', class_='rank').get_text(strip=True)\n",
    "    title = anime.find('h3', class_='anime_ranking_h3').get_text(strip=True)\n",
    "    score = anime.find('td', class_='score').get_text(strip=True)\n",
    "    members = anime.find('div', class_='information di-ib mt4').get_text(strip=True).split('\\n')[-1].strip()\n",
    "    \n",
    "    # Append the extracted data to the list\n",
    "    data.append([rank, title, score, members])\n",
    "\n",
    "# Create a DataFrame from the data\n",
    "columns = [\"Rank\", \"Title\", \"Score\", \"Members\"]\n",
    "df = pd.DataFrame(data, columns=columns)\n",
    "\n",
    "# Export the DataFrame to an Excel file\n",
    "df.to_excel(\"top_anime.xlsx\", index=False)\n",
    "\n",
    "print(\"Data has been scraped and saved to 'top_anime.xlsx'\")\n"
   ]
  },
  {
   "cell_type": "code",
   "execution_count": 5,
   "metadata": {},
   "outputs": [
    {
     "ename": "IndexError",
     "evalue": "list index out of range",
     "output_type": "error",
     "traceback": [
      "\u001b[1;31m---------------------------------------------------------------------------\u001b[0m",
      "\u001b[1;31mIndexError\u001b[0m                                Traceback (most recent call last)",
      "Cell \u001b[1;32mIn[5], line 12\u001b[0m\n\u001b[0;32m     10\u001b[0m \u001b[38;5;66;03m# Extract and process the ratings\u001b[39;00m\n\u001b[0;32m     11\u001b[0m \u001b[38;5;28;01mfor\u001b[39;00m row \u001b[38;5;129;01min\u001b[39;00m rows:\n\u001b[1;32m---> 12\u001b[0m     ratings \u001b[38;5;241m=\u001b[39m \u001b[43mrow\u001b[49m\u001b[43m[\u001b[49m\u001b[38;5;241;43m3\u001b[39;49m\u001b[43m]\u001b[49m\u001b[38;5;241m.\u001b[39msplit(\u001b[38;5;124m'\u001b[39m\u001b[38;5;124m/\u001b[39m\u001b[38;5;124m'\u001b[39m)  \u001b[38;5;66;03m# Split ratings by '/'\u001b[39;00m\n\u001b[0;32m     13\u001b[0m     row\u001b[38;5;241m.\u001b[39mextend(ratings)  \u001b[38;5;66;03m# Add the ratings as separate columns\u001b[39;00m\n\u001b[0;32m     15\u001b[0m \u001b[38;5;66;03m# Create a DataFrame with the appropriate column names\u001b[39;00m\n",
      "\u001b[1;31mIndexError\u001b[0m: list index out of range"
     ]
    }
   ],
   "source": [
    "import pandas as pd\n",
    "\n",
    "# Define the data as a multi-line string\n",
    "data = \"\"\"250Full Metal Panic! The Second Raid77.64.0/4.0/4.0/3.7/4.1851/5050Kyoto AnimationSummer 2005250Amagi Brilliant Park77.63.7/4.1/3.8/3.6/4.02054/10223Kyoto AnimationFall 2015249Utawarerumono77.74.0/3.6/3.9/3.9/4.01234/7113OLMSpring 2006244Maison Ikkoku77.84.4/3.7/4.1/4.0/4.3371/1811Studio DEENSpring 1986244Mobile Suit Gundam: The 08th MS Team77.84.0/3.9/3.9/4.0/4.0605/2989SunriseWinter 1996244Basilisk77.84.1/3.8/3.9/4.1/4.0947/4477GonzoSpring 2005244Bokurano77.84.0/3.4/3.6/4.0/3.71455/7350GonzoSpring 2007244Maoyu ~Archenemy & Hero77.83.7/3.7/3.8/3.5/3.72090/11603ArmsWinter 2013242Dragon Ball78.04.0/3.6/3.9/3.8/4.1661/3700Toei AnimationWinter 1986242Date A Live78.03.5/3.8/3.8/3.5/3.92076/11966AIC Plus+Spring 2013240your name. (Kimi no Na wa.)78.14.3/4.6/4.2/4.3/4.21036/3935CoMix Wave FilmsSummer 2016240Black Lagoon: Roberta’s Blood Trail78.14.1/4.1/4.0/4.0/4.21044/5543MADHOUSESummer 2010237Mobile Police Patlabor 2: The Movie78.24.3/4.3/4.1/4.1/4.2251/1328Production I.G.Summer 1993237Time of Eve (Movie)78.24.2/4.1/3.8/3.8/3.91108/5871Studio RikkaWinter 2010237Kill la Kill78.23.9/4.0/4.0/4.0/4.11842/9057TriggerFall 2013234Heaven’s Lost Property: Forte78.33.8/3.9/3.9/3.7/4.11280/7243AIC A.S.T.A.Fall 2010234Tokyo Ghoul78.33.8/3.9/3.9/3.8/3.92118/11069Studio PierrotSummer 2014234Tokyo Ravens78.33.9/3.8/3.9/3.8/4.01807/105898bitFall 2013230Mobile Suit Gundam 0080: War in the Pocket78.44.3/3.8/3.8/3.7/4.1596/2669SunriseWinter 1989230Mobile Suit Zeta Gundam78.44.1/3.6/4.0/3.9/4.1653/3025SunriseSpring 1985230Infinite Ryvius78.44.1/3.5/3.7/3.8/3.8769/4572SunriseFall 1999230Evangelion 1.0: You Are (Not) Alone78.43.9/4.3/4.0/4.0/4.01451/8096KharaSummer 2007225Re:ZERO –Starting Life in Another World-78.54.1/4.1/4.1/4.0/4.01759/6657WHITE FOXSpring 2016225Crayon Shin-chan: The Storm Called: The Adult Empire Strikes Back78.54.5/3.9/4.0/4.0/4.2539/2973Shin-Ei AnimationSpring 2001225Naruto78.54.0/3.7/3.9/3.9/4.0861/4808Studio PierrotFall 2002225The Kawai Complex Guide to Manors and Hostel Behavior78.53.8/3.9/3.9/3.8/4.11877/9960Brain’s BaseSpring 2014225Okami-San and Her Seven Companions78.53.4/3.7/3.7/3.4/3.81966/10894J.C.STAFFSummer 2010222Tenchi Muyo! War on Geminar78.63.9/3.8/3.8/3.7/4.01177/7030AICSpring 2009222Love Live! School Idol Project 1st season78.63.7/4.0/3.7/4.2/4.12511/10362SunriseWinter 2013222Noragami78.63.8/3.9/4.0/3.8/3.92008/10937BonesWinter 2014220Magical Girl Lyrical Nanoha A's78.74.1/3.8/4.1/4.1/4.2886/4570Seven ArcsFall 2005220Kuroko’s Basketball 1st season78.74.0/3.9/3.9/3.8/4.11848/8826Production I.GSpring 2012217Samurai X: Trust and Betrayal78.84.3/4.2/3.9/4.0/4.1417/2322Studio DEENWinter 1999217Puella Magi Madoka Magica Movie 3: Rebellion78.84.2/4.4/4.2/4.3/4.21443/7006SHAFTFall 2002215Mobile Suit Gundam 0078.94.0/4.1/4.0/4.0/4.01285/6293SunriseFall 2007215Black Bullet78.93.7/3.9/3.8/3.8/3.92052/11716Kinema CitrusSpring 2014212Gunbuster79.04.2/4.0/4.1/4.0/4.0585/2526GAINAXFall 1988212Kids on the Slope79.04.0/3.9/3.8/4.4/3.91815/7916MAPPASpring 2012212One Week Friends79.03.9/3.8/3.8/3.9/3.92178/10846Brain’s BaseSpring 2014207Cardcaptor Sakura The Movie79.14.1/3.9/4.0/4.1/4.2574/3431MADHOUSESpring 1998207AKIRA79.14.0/4.3/3.8/3.9/3.9772/3535Tokyo Movie ShinshaSummer 1988207Fate/stay night [Unlimited Blade Works] 1st season79.14.1/4.5/4.1/4.0/4.21528/8046ufotableFall 2014207Minami-ke Okaeri79.13.8/3.6/4.0/3.6/4.11609/9107AsreadWinter 2009207Strike Witches79.13.6/3.8/3.8/3.6/4.01819/9172GonzoSummer 2008205Library Wars79.23.8/3.7/3.7/3.5/3.81752/9888Production I.G.Spring 2008205Kannagi: Crazy Shrine Maidens79.23.6/3.7/3.8/3.7/3.91968/10236A-1 Pictures + OrdetFall 2008202Fruits Basket79.34.2/3.5/3.8/3.9/4.1740/4062Studio DEENSummer 2001202Ro-Kyu-Bu ~ Fast Break!79.33.6/3.6/4.0/3.6/3.91735/7888Barnum Studio + Project No.9Summer 2011202The Familiar of Zero: Rondo of Princesses79.33.6/3.6/4.0/3.5/3.91541/9331J.C.STAFFSummer 2008198Fairy Tail79.44.1/3.9/4.0/3.9/4.1991/5655A-1 Pictures + SatelightFall 2009198Penguindrum79.43.8/3.8/3.6/3.9/3.81687/8283Brain’s BaseSummer 2011198The World God Only Knows: Goddesses79.44.0/4.0/4.1/4.0/4.21507/8428ManglobeSummer 2013198School Days79.43.5/3.3/3.4/3.4/3.42578/11429TNKSummer 2007196Dragon Ball Z79.54.0/3.7/4.0/3.9/4.2768/3957Toei AnimationSpring 1996196Problem children are coming from another world, aren't they?79.53.6/3.8/3.6/3.5/3.82434/13675diomedeaWinter 2013195Gunslinger Girl79.64.0/3.7/3.7/3.8/3.9878/5684MADHOUSEFall 2013194The End of Evangelion79.73.9/4.0/4.1/4.1/4.11156/6413GAINAXSummer 1997193Rurouni Kenshin79.84.1/3.7/3.7/4.0/4.1756/4554Studio DEEN + Studio GallopWinter 1996191My Little Monster79.93.8/3.8/3.8/3.7/4.02194/11067Brain’s BaseFall 2012191Nyaruko: Crawling With Love!79.93.3/3.7/3.8/3.7/3.92660/13557XEBECSpring 2012190ERASED80.04.2/4.0/3.7/4.0/4.01923/7993A-1 PicturesWinter 2016187Yu Yu Hakusho80.24.1/3.6/3.9/3.9/4.2743/4532Studio PierrotFall 1992187Darker than Black: Gemini of the Meteor80.23.8/3.9/3.9/3.9/4.01489/8379BonesFall 2009187Strike the Blood80.23.7/3.8/3.8/3.7/4.02291/13222SILVER LINK. + ConnectFall 2013186Yosuga no Sora80.33.3/3.8/3.5/3.6/3.62343/12204feel.Fall 2010183Persona 4 the Animation80.43.8/3.7/3.9/4.1/4.01676/8714AIC A.S.T.A.Fall 2014183ALDNOAH.ZERO 1st season80.44.0/4.1/3.9/4.2/3.92097/10223A-1 Pictures + TROYCASummer 2014183High School DxD80.43.7/3.8/3.8/3.6/3.92385/12932TNKWinter 2012182Natsume's Book of Friends 4th season80.54.2/4.0/4.1/3.9/4.11635/9031Brain’s BaseWinter 2012180Heaven's Lost Property80.63.7/3.8/3.8/3.7/4.01785/9839AIC A.S.T.A.Fall 2009180The Ambition of Oda Nobuna80.63.8/4.0/3.9/3.6/4.12303/11228MADHOUSESummer 2012179Steins;Gate: The Movie − Load Region of Déjà Vu80.74.0/4.1/4.2/4.0/4.22017/9775WHITE FOXSpring 2013177s-CRY-ed80.94.0/3.7/4.0/3.9/4.21161/6046SunriseSummer 2001177Shakugan no Shana II80.93.8/3.7/4.0/3.9/3.91723/9880J.C.STAFFFall 2007176Girls und Panzer81.14.0/4.1/3.9/3.9/4.02409/9910ActasFall 2012175Heaven’s Memo Pad81.23.6/3.8/3.7/3.7/3.82273/11705J.C.STAFFSummer 2011174Samurai Champloo81.33.9/4.1/3.9/4.1/4.11356/6959ManglobeSpring 2004173YuruYuri: Happy Go Lily81.43.6/3.8/3.8/3.8/4.12126/9724Doga KoboSummer 2011172ef -a tale of melodies-81.54.2/4.1/3.9/4.2/4.01334/6687SHAFTFall 2008171Cardcaptor Sakura81.74.2/3.9/4.0/4.1/4.3784/4449MADHOUSESpring 1998170Kanon (2006)81.84.0/3.8/3.9/3.9/3.91574/8029Kyoto AnimationFall 2006166Mobile Suit Gundam: Char's Counterattack81.94.1/4.1/4.2/4.1/4.2714/3237SunriseWinter 1988166Monthly Girls' Nozaki-kun81.94.1/4.0/4.1/3.9/4.32433/11109Doga KoboSummer 2014166Sound! Euphonium81.94.1/4.4/4.0/4.2/4.11941/8388Kyoto AnimationSpring 2015166Arakawa Under the Bridge81.93.8/3.7/4.0/3.7/4.12216/11346SHAFTSpring 2010164Big Windup!82.04.2/3.8/3.9/3.8/4.11377/6815A-1 PicturesSpring 2007164A Certain Scientific Railgun OVA82.03.8/4.1/4.1/4.0/4.21781/9749J.C.STAFFFall 2010163Full Metal Panic? Fumoffu82.14.1/3.9/4.0/3.7/4.31184/6235Kyoto AnimationSummer 2003161ARIA The ORIGINATION82.34.4/4.2/4.2/4.4/4.4922/4899Hal Film MakerWinter 2008161The Familiar of Zero: Knight of the Twin Moons82.33.9/3.7/4.1/3.6/4.01835/10623J.C.STAFFSummer 2007160The \"Hentai\" Prince and the Stony Cat.82.43.5/3.8/3.8/3.7/3.92772/14872J.C.STAFFSpring 2013158Ouran High School Host Club82.54.0/3.8/4.0/3.7/4.21559/7764BonesSpring 2006158From the New World82.54.2/3.6/3.8/3.9/3.82519/11740A-1 PicturesFall 2012156Mobile Suit Gundam82.74.2/3.3/4.1/3.8/4.21066/4634SunriseSpring 1979156Porco Rosso82.74.1/4.1/3.9/4.0/4.1991/5996Studio GhibliSummer 1992155Blast of Tempest82.84.0/4.0/3.9/3.8/4.02228/11941BonesFall 2012152Gargantia on the Verdurous Planet82.94.0/4.1/3.8/3.7/3.92422/11435Production I.G.Spring 2013152Nisekoi 1st season82.93.7/3.9/4.0/3.8/4.12570/13659SHAFTWinter 2014152Oresharu82.93.5/3.7/3.8/3.6/3.83042/15563A-1 PicturesWinter 2013149HUNTER x HUNTER (1999)83.04.4/3.8/3.9/3.9/4.2967/5475Nippon AnimationFall 1999149SHIROBAKO83.04.3/4.2/4.1/3.9/4.32411/9113P.A. WORKSFall 2014149My Bride is a Mermaid83.03.9/3.6/3.8/3.6/4.12109/11573GonzoSpring 2007147Beyond the Boundary83.03.7/4.2/3.8/3.8/3.92668/13920Kyoto AnimationFall 2013147Student Council's Discretion83.13.5/3.6/3.7/3.5/3.92751/14283Studio DEENFall 2009146Den-noh Coil83.34.2/3.9/3.7/3.7/3.81559/8786MADHOUSESpring 2007144GHOST IN THE SHELL (1995)83.44.2/4.2/4.1/4.1/4.1820/4767Production I.GFall 1995144Inu X Boku Secret Service83.43.8/4.0/4.0/3.7/4.12676/12883david productionWinter 2012143Fate/stay night83.53.9/3.7/3.8/3.7/4.02606/12325Studio DEENWinter 2006142Chihayafuru 283.64.4/4.2/4.1/4.0/4.31877/9112MADHOUSEWinter 2013139Full Metal Panic!83.74.0/3.7/3.9/3.7/4.11350/7702GonzoWinter 2002139Black Lagoon: The Second Barrage83.74.2/4.1/4.0/4.0/4.31509/8255MADHOUSEFall 2006139Aria the Scarlet Ammo83.73.5/3.7/3.9/3.5/3.84590/21239J.C.STAFFSpring 2011138Digimon: Digital Monsters83.84.4/3.7/3.9/4.4/4.2861/4580Toei AnimationSpring 1999135Gintama’83.94.2/4.0/4.4/4.1/4.41364/7932SunriseSpring 2011135Jormungand83.94.1/3.9/3.9/4.0/4.12369/11782WHITE FOXSpring 2012135Is This a Zombie?83.93.5/3.7/3.7/3.6/3.92809/13673Studio DEENWinter 2011133Barakamon84.14.2/4.1/4.1/4.0/4.32258/10169Kinema CitrusSummer 2014133Tokyo Magnitude 8.084.14.1/3.7/3.6/3.6/3.72133/10715Bones + Kinema CitrusSummer 2009132Kimi ni Todoke 2nd Season84.44.1/3.9/4.0/3.8/4.11660/8192Production I.GWinter 2011131Maid Sama!84.54.0/3.8/3.9/3.6/4.12269/11065J.C.STAFFSpring 2010130Highschool of the Dead84.63.7/3.8/3.7/3.6/3.82822/13757MADHOUSESummer 2010129Evangelion 2.22: You can (not) advance84.74.2/4.4/4.1/4.1/4.21820/9876KharaSpring 2009126Fullmetal Alchemist84.84.1/4.0/4.1/4.1/4.11287/7865BonesFall 2003126Mayo Chiki!84.83.6/3.8/3.9/3.5/3.92973/15885feel.Summer 2011126Infinite Stratos84.83.4/3.9/3.9/3.6/4.06177/252908bitWinter 2011124The Melancholy of Haruhi Suzumiya 2nd season84.93.6/4.0/4.1/3.9/4.13142/14865Kyoto AnimationSpring 2009124Accel World84.93.8/3.9/3.7/3.8/3.73268/16366SunriseSpring 2012120THE IDOLM@STER85.04.0/4.1/4.1/4.3/4.32126/8614A-1 PicturesSummer 2011120Blue Exorcist85.03.8/3.9/3.9/3.7/3.92652/14000A-1 PicturesSpring 2011120C: The Money of Soul and Possibility Control85.03.9/3.7/3.7/3.6/3.73189/16333Tatsunoko ProductionSpring 2011120Ground Control to Psychoelectric Girl85.03.4/4.0/3.7/3.6/4.03915/17997SHAFTSpring 2011116Non Non Biyori85.24.0/4.2/4.1/4.0/4.32587/11253SLIVER LINK.Fall 2013116GOSICK85.23.9/3.9/3.8/3.8/4.02424/11945BonesWinter 2011116The Familiar of Zero85.23.8/3.6/4.0/3.6/3.92904/15314J.C.STAFFSummer 2006116The Irregular at Magic High School85.23.7/3.9/3.9/3.8/3.83508/17770MADHOUSESpring 2014114Spirited Away85.34.1/4.2/3.7/4.1/4.01381/8748Studio GhibliSummer 2001114Seitokai Yakuindomo85.33.7/3.6/3.9/3.5/4.03376/16421GoHandsSummer 2010112SLAM DUNK85.44.4/3.8/4.0/4.1/4.41058/5545Toei AnimationFall 1993112When They Cry: Kai85.44.3/3.7/4.0/4.0/4.12388/10442Studio DEENSummer 2007110Amagami SS85.53.8/3.9/3.9/3.7/4.12699/13093AICSummer 2010110Shakugan no Shana: Season I85.53.8/3.7/4.0/3.8/3.92721/14584J.C.STAFFFall 2005109ONE PIECE85.74.1/3.7/4.0/3.8/4.11549/6906Toei AnimationFall 1999107Legend of the Galactic Heroes85.84.6/3.8/4.5/4.2/4.5740/2905ArtlandWinter 1988107Whisper of the Heart85.84.1/4.0/3.7/4.2/3.91196/7457Studio GhibliSummer 1995103Lupin III: The Castle of Cagliostro85.94.3/4.0/4.2/4.0/4.3956/5660Tokyo Movie ShinshaFall 1979103ef –a tale of memories-85.94.1/4.0/3.8/4.1/3.92050/10083SHAFTFall 2007103Lucky Star85.93.6/3.7/4.0/3.9/4.23086/14439Kyoto AnimationSpring 2007103The Legend of the Legendary Heroes85.93.8/3.8/3.8/3.6/3.93458/17815ZexcsSummer 2010100ARIA The ANIMATION86.24.1/3.9/4.0/4.3/4.21426/7306Hal Film MakerFall 2005100Mobile Suit Gundam SEED86.24.0/3.8/4.0/4.1/3.91705/8091SunriseFall 2002100AIR86.23.9/3.6/3.8/4.2/3.72819/12966Kyoto AnimationWinter 200599Sword Art Online II86.43.9/4.1/4.0/4.0/4.02912/15798A-1 PicturesSummer 201497Hikaru no Go86.54.3/3.8/3.9/4.0/4.11368/7000Studio PierrotFall 200197The Tatami Galaxy86.54.2/3.9/4.0/3.8/4.12241/10214MADHOUSESpring 201093Mushishi86.64.3/4.2/3.9/4.1/4.11562/7948ArtlandFall 200593Kiki’s Delivery Service86.64.1/4.1/3.8/4.2/4.01293/8082Studio GhibliSummer 198993Oreimo 286.63.8/3.9/4.1/3.8/4.13197/16250A-1 PicturesSpring 201393Haganai86.63.7/3.9/4.0/3.6/4.16388/27498AIC BuildFall 201191Baka to Test 2nd season86.83.9/3.8/3.9/3.6/4.12867/15275SILVER LINK.Summer 201191The World God Only Knows I86.83.8/3.8/3.9/3.8/4.04610/21247ManglobeFall 201089The Twelve Kingdoms86.94.4/3.7/3.9/3.9/4.01395/7226Studio PerriotSpring 200289Baka To Test 1st season86.93.9/3.8/3.8/3.6/4.14836/22186SILVER LINK.Winter 201084Kaleido Star87.04.4/3.9/4.0/3.9/4.31266/6542Gonzo + Production I.GSpring 200384My Neighbor Totoro87.04.1/4.1/3.8/4.2/4.01346/8360Studio GhibliSpring 199884Natsume’s Book of Friends 3rd season87.04.2/4.0/4.1/4.0/4.21911/10533Brain’s BaseSummer 201184Nekomonogatari87.04.0/4.2/4.2/3.9/4.22899/15044SHAFTFall 201284Summer Wars87.04.2/4.2/3.7/3.9/4.03644/16878MADHOUSESummer 200981Saki87.13.9/3.9/3.9/3.7/4.12851/12783GonzoSpring 200981A Certain Scientific Railgun S87.13.9/4.1/4.0/4.0/4.12927/15868J.C.STAFFSpring 201381Haganai NEXT87.13.7/4.0/4.0/3.7/4.13509/18122AIC BuildWinter 201378Katanagatari87.34.1/3.8/3.9/3.8/4.12626/13243WHITE FOXWinter 2010785 Centimeters Per Second87.33.9/4.3/3.5/4.2/3.63351/14791CoMix WaveWinter 200778Future Diary87.34.0/3.7/3.7/3.7/3.93279/15598AsreadFall 201176Elfen Lied87.44.1/3.5/3.7/3.9/3.82389/10824ArmsSummer 200476Daily Lives of High School Boys87.44.0/3.6/4.0/3.6/4.13853/17462SunriseWinter 201273Death Note87.54.4/4.0/4.0/3.8/4.21941/9623MADHOUSEFall 200673BACCANO!87.54.2/4.0/4.0/4.1/4.22267/11973Brains BaseSummer 200773True Tears87.54.0/4.0/3.8/3.9/3.95605/23191P.A. WORKSWinter 200871The World God Only Knows II87.63.9/3.9/4.0/3.8/4.13084/16118ManglobeSpring 201171Fate/Zero 2nd season87.64.2/4.5/4.2/4.2/4.32544/12891ufotableSpring 201270Nichijou87.73.9/3.9/3.9/3.8/4.23599/15962Kyoto AnimationSpring 201164Minami-ke87.83.9/3.8/4.0/3.7/4.23402/16377AsreadFall 200764Another87.84.0/4.0/3.7/3.7/3.84324/17929P.A. WORKSWinter 201264Eden of the East87.84.1/3.9/3.8/3.8/3.84053/18975Production I.GSpring 200964Guilty Crown87.83.8/4.3/4.0/4.4/3.96286/25192Production I.GFall 201164A Certain Magical Index II87.83.9/3.9/4.0/3.9/4.16608/28634J.C.STAFFFall 201064A Certain Magical Index I87.83.9/3.9/3.9/3.8/4.17278/30099J.C.STAFFFall 200863Natsume’s Book of Friends 2nd season87.94.2/4.0/4.1/4.0/4.22092/11268Brain’s BaseWinter 200962Oriemo 1st season88.03.9/4.0/4.0/3.8/4.17428/28687AIC BuildFall 201061Spice and Wolf 2nd season88.14.1/4.0/4.1/3.8/4.22508/12814Brain’s BaseSummer 200960TARI TARI88.24.0/4.2/4.0/4.2/4.03882/16561P.A. WORKSSummer 201258Kimi ni Todoke88.34.2/3.9/4.0/3.8/4.12681/12348Production I.GFall 200958When they cry (Higurashi)88.34.2/3.5/4.0/3.9/4.04087/17402Studio DEENSpring 200655K-ON! Movie88.44.0/4.3/4.3/4.4/4.42512/11665Kyoto AnimationFall 201155TIGER & BUNNY88.44.0/4.0/4.0/3.8/4.22910/14012SunriseSpring 201155Love, Chunibyo & Other Delusions! 1st season88.43.8/4.2/4.0/3.8/4.15269/23033Kyoto AnimationFall 201253Kokoro Connect88.54.1/3.9/4.0/3.7/4.04010/18080SILVER LINK.Summer 201253WORKING!! 1st season88.53.9/3.9/4.1/3.8/4.36038/25430A-1 PicturesSpring 201049Your Lie in April88.74.3/4.4/4.2/4.4/4.23529/12940A-1 PicturesFall 201449The Girl Who Leapt Through Time88.74.3/4.1/3.7/4.1/3.93485/16961MADHOUSESummer 200649The Pet Girl of Sakurasou88.74.0/4.0/4.0/3.8/4.14511/20874J.C.STAFFFall 201249Devil is a Part-Timer88.74.0/3.9/4.0/3.7/4.24607/21135WHITE FOXSpring 201347Darker than BLACK88.84.1/4.0/3.9/3.9/4.13091/16059BonesSpring 200747Ga-Rei Zero88.84.1/4.0/3.8/4.0/4.04022/17235AsreadFall 200845WORKING’!! 2nd season88.93.9/3.9/4.1/3.8/4.33381/17078A-1 PicturesFall 201145No Game No Life88.94.1/4.0/4.1/3.9/4.14038/19055MADHOUSESpring 201444Macross Frontier89.03.9/4.1/4.0/4.6/4.03468/15206SatelightSpring 200842Monogatari Second Season89.14.2/4.2/4.3/4.0/4.32780/15147SHAFTSummer 201342The Melancholy of Haruhi Suzumiya 1st season89.14.0/4.0/4.1/4.0/4.26762/27295Kyoto AnimationSpring 200640Durarara!! 1st season89.44.1/3.9/4.1/3.9/4.15296/22342Brain’s BaseWinter 201040My Teen Romantic Comedy SNAFU!89.44.2/3.9/4.1/3.9/4.35529/23822Brain’s BaseSpring 201338Nausicaä of the Valley of the Wind89.64.3/4.2/3.9/4.2/4.11561/9188Studio GhibliWinter 198438Spice and Wolf 1st season89.64.1/3.9/4.0/3.9/4.23964/18620Brain’s BaseWinter 200836Usagi Drop89.74.3/3.9/3.9/3.7/4.23337/14158Production I.GSummer 201136K-ON! 1st season89.73.9/4.1/4.2/4.4/4.38536/30991Kyoto AnimationSpring 200934Princess Mononoke89.84.3/4.3/3.9/4.2/4.11638/9670Studio GhibliSummer 199734Planttes89.84.4/3.9/3.9/3.9/4.02539/12226SunriseFall 200331Castle in the Sky89.94.4/4.2/4.0/4.3/4.21912/10472Studio GhibliSummer 198631Fullmetal Alchemist: Brotherhood89.94.5/4.1/4.1/4.1/4.32478/13053BonesSpring 200931CLANNAD89.94.2/3.9/4.1/4.2/4.27494/27112Kyoto AnimationFall 200730Ghost in the Shell: Stand Alone Complex 2nd GIG90.04.4/4.3/4.3/4.4/4.41873/9332Production I.GWinter 200426Gintama 1st season90.14.3/4.0/4.4/4.1/4.52616/11968SunriseSpring 200626PSYCHO-PASS90.14.3/4.0/4.1/4.1/4.14270/19284Production I.GFall 201226Neon Genesis Evangelion90.14.1/3.9/4.1/4.3/4.25391/20203GAINAXFall 199526Nisemonogatari90.13.9/4.2/4.2/4.0/4.36264/36435SHAFTWinter 201223Black Lagoon90.24.2/4.0/4.0/4.1/4.24202/18795MADHOUSESpring 200623Natsume’s Book of Friends 1st season90.24.3/4.0/4.1/4.0/4.24361/19640Brain’s BaseSummer 200823Hanasaku Iroha90.24.1/4.3/4.1/3.9/4.15242/21628P.A. WORKSSpring 201121Hyouka90.34.1/4.4/4.1/3.9/4.26838/27764Kyoto AnimationSpring 201221Angel Beats!90.34.1/4.1/4.1/4.4/4.213033/40709P.A. WORKSSpring 201018Tengen Toppa Gurren Lagann90.44.3/4.0/4.1/4.1/4.33330/15177GAINAXSpring 200718Puella Magi Madoka Magica90.44.4/4.0/4.0/4.3/4.18895/29944SHAFTWinter 201118A Certain Scientific Railgun90.44.1/4.2/4.1/4.2/4.39362/34957J.C.STAFFFall 200915A Lull in the Sea (Nagi no Asukara)90.74.3/4.4/4.2/4.2/4.25186/19173P.A. WORKSFall 201315Attack on Titan90.74.3/4.2/4.1/4.2/4.15196/22348WIT StudioSpring 201315Sword Art Online90.74.2/4.2/4.1/4.1/4.211118/38337A-1 PicturesSummer 201213Eureka Seven90.94.2/4.1/4.0/4.3/4.13798/16509BonesSpring 200513Toradora!90.94.4/4.1/4.3/4.0/4.316358/45992J.C.STAFFFall 200811COWBOY BEBOP91.04.1/4.1/4.2/4.4/4.32522/11681SunriseSpring 199811The Disappearance of Haruhi Suzumiya91.04.4/4.3/4.2/4.0/4.34310/17592Kyoto AnimationWinter 20109Chihayafuru 1st season91.24.4/4.1/4.1/4.0/4.23457/14891MADHOUSEFall 20119K-ON!! 2nd season91.24.0/4.2/4.3/4.5/4.46469/25416Kyoto AnimationSpring 20108Fate/Zero 1st season91.34.2/4.4/4.1/4.2/4.24995/22243ufotableFall 20117Anohana: The Flower We Saw That Day91.44.4/4.2/4.2/4.3/4.213168/41315A-1 PicturesSpring 20115CLANNAD: After Story92.34.6/4.2/4.3/4.5/4.49503/27316Kyoto AnimationFall 20085Bakemonogatari92.34.3/4.3/4.3/4.3/4.411774/39609SHAFTSummer 20094Code Geass: Lelouch of the Rebellion92.44.6/4.2/4.3/4.2/4.48691/30007SunriseFall 20063Ghost in the Shell: Stand Alone Complex92.54.4/4.2/4.2/4.3/4.34132/16923Production I.GFall 20022Code Geass: Lelouch of the Rebellion R292.64.6/4.3/4.4/4.2/4.59011/28915SunriseSpring 20081Steins;Gate92.74.6/4.2/4.3/4.2/4.413722/41153WHITE FOXSpring 2011\n",
    "\"\"\"\n",
    "\n",
    "# Split the data into lines and then split each line into fields\n",
    "rows = [line.split('\\t') for line in data.strip().split('\\n')]\n",
    "\n",
    "# Extract and process the ratings\n",
    "for row in rows:\n",
    "    ratings = row[3].split('/')  # Split ratings by '/'\n",
    "    row.extend(ratings)  # Add the ratings as separate columns\n",
    "\n",
    "# Create a DataFrame with the appropriate column names\n",
    "df = pd.DataFrame(rows, columns=[\n",
    "    \"Rank\", \"Title\", \"Score\", \"Ratings (1/2/3/4/5)\", \n",
    "    \"Members/Votes\", \"Studio\", \"Season\", \n",
    "    \"STORY\", \"VISUALS\", \"VOICE ACTING\", \"MUSIC\", \"CHARACTERS\"\n",
    "])\n",
    "\n",
    "# Drop the original combined ratings column\n",
    "df = df.drop(columns=[\"Ratings (1/2/3/4/5)\"])\n",
    "df\n",
    "# Export to Excel\n",
    "# df.to_excel(\"anime_rankings_with_ratings.xlsx\", index=False)\n",
    "\n",
    "# print(\"Data has been exported to 'anime_rankings_with_ratings.xlsx'\")\n"
   ]
  }
 ],
 "metadata": {
  "kernelspec": {
   "display_name": "ml_env",
   "language": "python",
   "name": "python3"
  },
  "language_info": {
   "codemirror_mode": {
    "name": "ipython",
    "version": 3
   },
   "file_extension": ".py",
   "mimetype": "text/x-python",
   "name": "python",
   "nbconvert_exporter": "python",
   "pygments_lexer": "ipython3",
   "version": "3.11.4"
  }
 },
 "nbformat": 4,
 "nbformat_minor": 2
}
